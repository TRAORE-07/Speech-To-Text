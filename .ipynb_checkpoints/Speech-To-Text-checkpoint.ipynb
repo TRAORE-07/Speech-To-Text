{
 "cells": [
  {
   "cell_type": "markdown",
   "id": "d62eada0-02a6-45ea-9d65-92f757d0cc0b",
   "metadata": {},
   "source": [
    "## Necessary libraries"
   ]
  },
  {
   "cell_type": "code",
   "execution_count": 13,
   "id": "63149209-19f2-4ed2-9244-c725411c4933",
   "metadata": {},
   "outputs": [],
   "source": [
    "import speech_recognition as sr\n",
    "from pydub import AudioSegment\n",
    "import requests\n",
    "import io"
   ]
  },
  {
   "cell_type": "markdown",
   "id": "77a99d29-0775-484c-bf8e-683f943f7a05",
   "metadata": {},
   "source": [
    "## Function to download audio file from a URL"
   ]
  },
  {
   "cell_type": "code",
   "execution_count": 14,
   "id": "75cab5fe-df3c-46b4-ac48-afec76d363d9",
   "metadata": {},
   "outputs": [],
   "source": [
    "def download_audio(url):\n",
    "    response = requests.get(url)\n",
    "    if response.status_code == 200:\n",
    "        audio_data = io.BytesIO(response.content)\n",
    "        return audio_data\n",
    "    else:\n",
    "        raise Exception(f\"Failed to download file. Status code: {response.status_code}\")"
   ]
  },
  {
   "cell_type": "markdown",
   "id": "a015c6c0-7fe1-4063-9a3f-ff613f51a5f0",
   "metadata": {},
   "source": [
    "## Function to convert audio from MP3 to WAV"
   ]
  },
  {
   "cell_type": "code",
   "execution_count": 15,
   "id": "cf41612f-a13c-44ac-bb46-7798fdd3401e",
   "metadata": {},
   "outputs": [],
   "source": [
    "def convert_mp3_to_wav(mp3_file):\n",
    "    audio = AudioSegment.from_mp3(mp3_file)\n",
    "    wav_file = io.BytesIO()\n",
    "    audio.export(wav_file, format=\"wav\")\n",
    "    wav_file.seek(0)\n",
    "    return wav_file"
   ]
  },
  {
   "cell_type": "markdown",
   "id": "b6b5d67f-6ad3-48c4-8aa4-e5e162ef6f52",
   "metadata": {},
   "source": [
    "## Function to transcribe audio file using CMU Sphinx"
   ]
  },
  {
   "cell_type": "code",
   "execution_count": 16,
   "id": "eb1bf577-a17b-4d5c-97c7-593a58ceb15f",
   "metadata": {},
   "outputs": [],
   "source": [
    "def transcribe_audio(audio_file):\n",
    "    recognizer = sr.Recognizer()\n",
    "    \n",
    "    with sr.AudioFile(audio_file) as source:\n",
    "        audio_data = recognizer.record(source)\n",
    "        try:\n",
    "            text = recognizer.recognize_sphinx(audio_data)\n",
    "            return text\n",
    "        except sr.UnknownValueError:\n",
    "            return \"Sphinx could not understand audio\"\n",
    "        except sr.RequestError:\n",
    "            return \"Sphinx error; check your setup\""
   ]
  },
  {
   "cell_type": "markdown",
   "id": "2bc1f37f-8fda-405d-b3d3-2548962002f6",
   "metadata": {},
   "source": [
    "## URL of an example MP3 file of a sample audio file provided by SoundHelix"
   ]
  },
  {
   "cell_type": "code",
   "execution_count": 17,
   "id": "e1375b10-1f52-4ca8-b3c0-a50847dcda49",
   "metadata": {},
   "outputs": [],
   "source": [
    "audio_url = \"https://www.soundhelix.com/examples/mp3/SoundHelix-Song-1.mp3\""
   ]
  },
  {
   "cell_type": "markdown",
   "id": "0f04f2b3-15d6-4977-80ca-c4b4c5cd0eda",
   "metadata": {},
   "source": [
    "## Download and process the audio"
   ]
  },
  {
   "cell_type": "code",
   "execution_count": 18,
   "id": "aa71e624-4ba3-4359-b7b8-9223ca404afd",
   "metadata": {},
   "outputs": [
    {
     "name": "stdout",
     "output_type": "stream",
     "text": [
      "Transcript: chalk gant told that what what it didn't do that don't james of a thousand yeah i had a fifth of a at a and at at what who hoped whip at yahoo he one who hid hehir fyffes thanked fifty fifth fifteenth if the flipped fifteenth if booths fifth fifth fifth and teeth fifth fifth fifth of the fifth fifth of but what and when we root wound we do need when it i out out and what right and ruined\n"
     ]
    }
   ],
   "source": [
    "mp3_audio = download_audio(audio_url)\n",
    "if mp3_audio:\n",
    "    wav_audio = convert_mp3_to_wav(mp3_audio)\n",
    "    if wav_audio:\n",
    "        # Transcribe the audio\n",
    "        transcript = transcribe_audio(wav_audio)\n",
    "        print(\"Transcript: {}\".format(transcript))\n",
    "    else:\n",
    "        print(\"Failed to convert MP3 to WAV.\")\n",
    "else:\n",
    "    print(\"Failed to download MP3 file.\")"
   ]
  },
  {
   "cell_type": "code",
   "execution_count": null,
   "id": "f70357ac-2048-4e01-9612-3a59ca19cf7f",
   "metadata": {},
   "outputs": [],
   "source": []
  }
 ],
 "metadata": {
  "kernelspec": {
   "display_name": "Python 3 (ipykernel)",
   "language": "python",
   "name": "python3"
  },
  "language_info": {
   "codemirror_mode": {
    "name": "ipython",
    "version": 3
   },
   "file_extension": ".py",
   "mimetype": "text/x-python",
   "name": "python",
   "nbconvert_exporter": "python",
   "pygments_lexer": "ipython3",
   "version": "3.12.4"
  }
 },
 "nbformat": 4,
 "nbformat_minor": 5
}
